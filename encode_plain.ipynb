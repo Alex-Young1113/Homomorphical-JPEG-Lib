{
 "cells": [
  {
   "cell_type": "code",
   "execution_count": 1,
   "metadata": {},
   "outputs": [],
   "source": [
    "from PIL import Image\n",
    "import numpy as np\n",
    "from tqdm import tqdm\n",
    "\n",
    "def read_image_to_array(file_path):\n",
    "    with Image.open(file_path) as img:\n",
    "        img = img.convert('RGB')\n",
    "\n",
    "        image_array = np.array(img)\n",
    "\n",
    "        return image_array\n",
    "\n",
    "def rgb_to_ycbcr(img):\n",
    "    # Coefficients for conversion from RGB to YCbCr\n",
    "    xform = np.array([[0.299, 0.587, 0.114],\n",
    "                      [-0.168736, -0.331264, 0.5],\n",
    "                      [0.5, -0.418688, -0.081312]])\n",
    "    \n",
    "    ycbcr = img.dot(xform.T)\n",
    "    ycbcr[:, :, [1, 2]] += 128   # Adding 128 to Cb and Cr channels\n",
    "    return np.uint8(ycbcr)\n",
    "\n",
    "def downsample_420(ycbcr_img):\n",
    "    # Downsample the Cb and Cr channels by a factor of 2\n",
    "    y = ycbcr_img[:, :, 0]\n",
    "    cb = ycbcr_img[::2, ::2, 1]\n",
    "    cr = ycbcr_img[::2, ::2, 2]\n",
    "\n",
    "    return y, cb, cr"
   ]
  },
  {
   "cell_type": "code",
   "execution_count": 2,
   "metadata": {},
   "outputs": [
    {
     "name": "stdout",
     "output_type": "stream",
     "text": [
      "(256, 256)\n"
     ]
    }
   ],
   "source": [
    "    \n",
    "file_path = './ganyu.png'  \n",
    "image_array = read_image_to_array(file_path)\n",
    "ycbcr_image = rgb_to_ycbcr(image_array)\n",
    "y, cb, cr = downsample_420(ycbcr_image)\n",
    "\n",
    "print(cb.shape)\n"
   ]
  },
  {
   "cell_type": "code",
   "execution_count": 3,
   "metadata": {},
   "outputs": [],
   "source": [
    "def dct_2d(block):\n",
    "    \"\"\"Perform 2D Discrete Cosine Transform on an 8x8 block.\"\"\"\n",
    "    dct = np.zeros((8, 8))\n",
    "    for u in range(8):\n",
    "        for v in range(8):\n",
    "            sum = 0\n",
    "            for x in range(8):\n",
    "                for y in range(8):\n",
    "                    sum += block[x, y] * np.cos((2 * x + 1) * u * np.pi / 16) * np.cos((2 * y + 1) * v * np.pi / 16)\n",
    "            sum *= 0.25 * (1 / np.sqrt(2) if u == 0 else 1) * (1 / np.sqrt(2) if v == 0 else 1)\n",
    "            dct[u, v] = sum\n",
    "    return dct\n",
    "\n",
    "def apply_dct_to_image(img):\n",
    "    \"\"\"Apply DCT to each 8x8 block of the image.\"\"\"\n",
    "    h, w = img.shape\n",
    "    dct_transformed = np.zeros((h, w))\n",
    "\n",
    "    for i in tqdm(range(0, h, 8)):\n",
    "        for j in range(0, w, 8):\n",
    "            dct_transformed[i:i+8, j:j+8] = dct_2d(img[i:i+8, j:j+8])\n",
    "\n",
    "    return dct_transformed"
   ]
  },
  {
   "cell_type": "code",
   "execution_count": 4,
   "metadata": {},
   "outputs": [
    {
     "name": "stderr",
     "output_type": "stream",
     "text": [
      "  0%|          | 0/64 [00:00<?, ?it/s]"
     ]
    },
    {
     "name": "stderr",
     "output_type": "stream",
     "text": [
      "100%|██████████| 64/64 [00:25<00:00,  2.51it/s]\n",
      "100%|██████████| 32/32 [00:06<00:00,  5.09it/s]\n",
      "100%|██████████| 32/32 [00:06<00:00,  5.08it/s]\n"
     ]
    }
   ],
   "source": [
    "dct_y = apply_dct_to_image(y)\n",
    "dct_cb = apply_dct_to_image(cb)\n",
    "dct_cr = apply_dct_to_image(cr)"
   ]
  },
  {
   "cell_type": "code",
   "execution_count": 5,
   "metadata": {},
   "outputs": [],
   "source": [
    "standard_quantization_matrix = np.array([\n",
    "    [16, 11, 10, 16, 24, 40, 51, 61],\n",
    "    [12, 12, 14, 19, 26, 58, 60, 55],\n",
    "    [14, 13, 16, 24, 40, 57, 69, 56],\n",
    "    [14, 17, 22, 29, 51, 87, 80, 62],\n",
    "    [18, 22, 37, 56, 68, 109, 103, 77],\n",
    "    [24, 35, 55, 64, 81, 104, 113, 92],\n",
    "    [49, 64, 78, 87, 103, 121, 120, 101],\n",
    "    [72, 92, 95, 98, 112, 100, 103, 99]\n",
    "])\n",
    "def quantize_block(dct_block, quant_matrix):\n",
    "    return np.round(dct_block / quant_matrix).astype(int)\n",
    "def apply_quantization(dct_image, quant_matrix):\n",
    "    h, w = dct_image.shape\n",
    "    quantized_image = np.zeros((h, w))\n",
    "\n",
    "    for i in range(0, h, 8):\n",
    "        for j in range(0, w, 8):\n",
    "            quantized_image[i:i+8, j:j+8] = quantize_block(dct_image[i:i+8, j:j+8], quant_matrix)\n",
    "\n",
    "    return quantized_image\n"
   ]
  },
  {
   "cell_type": "code",
   "execution_count": 6,
   "metadata": {},
   "outputs": [],
   "source": [
    "quantized_y = apply_quantization(dct_y, standard_quantization_matrix)\n",
    "quantized_cb = apply_quantization(dct_cb, standard_quantization_matrix)\n",
    "quantized_cr = apply_quantization(dct_cr, standard_quantization_matrix)"
   ]
  },
  {
   "cell_type": "code",
   "execution_count": 7,
   "metadata": {},
   "outputs": [],
   "source": [
    "def zigzag(input):\n",
    "    h, w = input.shape\n",
    "    result = np.zeros(h * w)\n",
    "    index = -1\n",
    "\n",
    "    for i in range(h + w - 1):\n",
    "        if i % 2 == 0:\n",
    "            x = i if i < h else h - 1\n",
    "            y = 0 if i < h else i - h + 1\n",
    "            while x >= 0 and y < w:\n",
    "                index += 1\n",
    "                result[index] = input[x, y]\n",
    "                x -= 1\n",
    "                y += 1\n",
    "        else:\n",
    "            x = 0 if i < w else i - w + 1\n",
    "            y = i if i < w else w - 1\n",
    "            while x < h and y >= 0:\n",
    "                index += 1\n",
    "                result[index] = input[x, y]\n",
    "                x += 1\n",
    "                y -= 1\n",
    "\n",
    "    return result\n",
    "\n",
    "def run_length_encoding(input):\n",
    "    symbols = []\n",
    "    count = 0\n",
    "    for elem in input:\n",
    "        if elem == 0:\n",
    "            count += 1\n",
    "        else:\n",
    "            symbols.append((count, elem))\n",
    "            count = 0\n",
    "    if count > 0:\n",
    "        symbols.append((0, 0))\n",
    "    return symbols"
   ]
  },
  {
   "cell_type": "code",
   "execution_count": 8,
   "metadata": {},
   "outputs": [],
   "source": [
    "runlen_y = run_length_encoding(zigzag(quantized_y))\n",
    "runlen_cb = run_length_encoding(zigzag(quantized_cb))\n",
    "runlen_cr = run_length_encoding(zigzag(quantized_cr))"
   ]
  },
  {
   "cell_type": "code",
   "execution_count": 9,
   "metadata": {},
   "outputs": [],
   "source": [
    "class Node:\n",
    "    def __init__(self, symbol, frequency):\n",
    "        self.symbol = symbol\n",
    "        self.frequency = frequency\n",
    "        self.left = None\n",
    "        self.right = None\n",
    "\n",
    "    def __lt__(self, other):\n",
    "        return self.frequency < other.frequency\n",
    "\n",
    "        \n",
    "import heapq\n",
    "from bitarray import bitarray\n",
    "\n",
    "def build_huffman_tree(symbols_frequency):\n",
    "    heap = [Node(symbol, frequency) for symbol, frequency in symbols_frequency.items()]\n",
    "    heapq.heapify(heap)\n",
    "\n",
    "    while len(heap) > 1:\n",
    "        left = heapq.heappop(heap)\n",
    "        right = heapq.heappop(heap)\n",
    "\n",
    "        merged = Node(None, left.frequency + right.frequency)\n",
    "        merged.left = left\n",
    "        merged.right = right\n",
    "\n",
    "        heapq.heappush(heap, merged)\n",
    "\n",
    "    return heap[0]\n",
    "\n",
    "def generate_huffman_codes(node, prefix=bitarray(), code={}):\n",
    "    if node is not None:\n",
    "        if node.symbol is not None:\n",
    "            code[node.symbol] = prefix\n",
    "        prefix.append(False)\n",
    "        generate_huffman_codes(node.left, prefix.copy(), code)\n",
    "        prefix[-1] = True\n",
    "        generate_huffman_codes(node.right, prefix.copy(), code)\n",
    "        prefix = prefix[:-1]\n",
    "    return code\n",
    "\n",
    "def encode_huffman(data, huffman_codes):\n",
    "    merge_bitarray = bitarray()\n",
    "    for symbol in data:\n",
    "        merge_bitarray.extend(huffman_codes[symbol])\n",
    "    return merge_bitarray\n",
    "\n",
    "def compute_frequency(data):\n",
    "    frequency = {}\n",
    "    for symbol in data:\n",
    "        if symbol not in frequency:\n",
    "            frequency[symbol] = 1\n",
    "        else:\n",
    "            frequency[symbol] += 1\n",
    "    return frequency\n"
   ]
  },
  {
   "cell_type": "code",
   "execution_count": 10,
   "metadata": {},
   "outputs": [],
   "source": [
    "# perform the huffman encoding\n",
    "freq_y = compute_frequency(runlen_y)\n",
    "huffman_tree_y = build_huffman_tree(freq_y)\n",
    "huffman_code_y = generate_huffman_codes(huffman_tree_y, bitarray())\n",
    "data_y = encode_huffman(runlen_y, huffman_code_y)\n",
    "\n",
    "freq_cb = compute_frequency(runlen_cb)\n",
    "huffman_tree_cb = build_huffman_tree(freq_cb)\n",
    "huffman_code_cb = generate_huffman_codes(huffman_tree_cb, bitarray())\n",
    "data_cb = encode_huffman(runlen_cb, huffman_code_cb)\n",
    "\n",
    "freq_cr = compute_frequency(runlen_cr)\n",
    "huffman_tree_cr = build_huffman_tree(freq_cr)\n",
    "huffman_code_cr = generate_huffman_codes(huffman_tree_cr, bitarray())\n",
    "data_cr = encode_huffman(runlen_cr, huffman_code_cr)\n",
    "\n"
   ]
  },
  {
   "cell_type": "code",
   "execution_count": 15,
   "metadata": {},
   "outputs": [],
   "source": [
    "import pickle\n",
    "\n",
    "my_dict = {'huffman_code_y'.encode(): huffman_code_y, 'y'.encode(): data_y, 'huffman_code_cb'.encode(): huffman_code_cb, \n",
    "           'cb'.encode(): data_cb, 'huffman_code_cr'.encode(): huffman_code_cr, 'cr'.encode(): data_cr}\n",
    "\n",
    "# # Write to file\n",
    "with open('output.pkl', 'wb') as f:\n",
    "    pickle.dump(my_dict, f)\n"
   ]
  }
 ],
 "metadata": {
  "kernelspec": {
   "display_name": "Python 3",
   "language": "python",
   "name": "python3"
  },
  "language_info": {
   "codemirror_mode": {
    "name": "ipython",
    "version": 3
   },
   "file_extension": ".py",
   "mimetype": "text/x-python",
   "name": "python",
   "nbconvert_exporter": "python",
   "pygments_lexer": "ipython3",
   "version": "3.10.12"
  },
  "orig_nbformat": 4
 },
 "nbformat": 4,
 "nbformat_minor": 2
}
